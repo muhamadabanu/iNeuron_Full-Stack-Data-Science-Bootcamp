{
 "cells": [
  {
   "cell_type": "markdown",
   "metadata": {},
   "source": [
    "Question 1:\n",
    "\n",
    "Please write a program using generator to print the numbers which can be divisible by 5 and 7 between 0 and n in comma separated form while n is input by console."
   ]
  },
  {
   "cell_type": "code",
   "execution_count": 1,
   "metadata": {},
   "outputs": [
    {
     "name": "stdout",
     "output_type": "stream",
     "text": [
      "Numbers divisible by 5 and 7 between 0 and 100: 0, 35, 70\n"
     ]
    }
   ],
   "source": [
    "def divisible_by_5_and_7_generator(n):\n",
    "    for num in range(n + 1):\n",
    "        if num % 5 == 0 and num % 7 == 0:\n",
    "            yield num\n",
    "\n",
    "def main():\n",
    "    try:\n",
    "        n = int(input(\"Enter a value for n: \"))\n",
    "        numbers_generator = divisible_by_5_and_7_generator(n)\n",
    "        \n",
    "        print(f\"Numbers divisible by 5 and 7 between 0 and {n}: \", end=\"\")\n",
    "        first = True\n",
    "        for num in numbers_generator:\n",
    "            if not first:\n",
    "                print(\", \", end=\"\")\n",
    "            print(num, end=\"\")\n",
    "            first = False\n",
    "        print()\n",
    "    \n",
    "    except ValueError:\n",
    "        print(\"Please enter a valid integer value for n.\")\n",
    "\n",
    "if __name__ == \"__main__\":\n",
    "    main()"
   ]
  },
  {
   "cell_type": "markdown",
   "metadata": {},
   "source": [
    "Question 2:\n",
    "\n",
    "Please write a program using generator to print the even numbers between 0 and n in comma separated form while n is input by console."
   ]
  },
  {
   "cell_type": "code",
   "execution_count": 2,
   "metadata": {},
   "outputs": [
    {
     "name": "stdout",
     "output_type": "stream",
     "text": [
      "Even numbers between 0 and 10: 0, 2, 4, 6, 8, 10\n"
     ]
    }
   ],
   "source": [
    "def even_numbers_generator(n):\n",
    "    for num in range(0, n + 1, 2):\n",
    "        yield num\n",
    "\n",
    "def main():\n",
    "    try:\n",
    "        n = int(input(\"Enter a value for n: \"))\n",
    "        numbers_generator = even_numbers_generator(n)\n",
    "        \n",
    "        print(f\"Even numbers between 0 and {n}: \", end=\"\")\n",
    "        first = True\n",
    "        for num in numbers_generator:\n",
    "            if not first:\n",
    "                print(\", \", end=\"\")\n",
    "            print(num, end=\"\")\n",
    "            first = False\n",
    "        print()\n",
    "    \n",
    "    except ValueError:\n",
    "        print(\"Please enter a valid integer value for n.\")\n",
    "\n",
    "if __name__ == \"__main__\":\n",
    "    main()"
   ]
  },
  {
   "cell_type": "markdown",
   "metadata": {},
   "source": [
    "Question 3:\n",
    "\n",
    "The Fibonacci Sequence is computed based on the following formula:\n",
    "\n",
    "f(n)=0 if n=0\n",
    "\n",
    "f(n)=1 if n=1\n",
    "\n",
    "f(n)=f(n-1)+f(n-2) if n>1\n",
    "\n",
    "Please write a program using list comprehension to print the Fibonacci Sequence in comma separated form with a given n input by console."
   ]
  },
  {
   "cell_type": "code",
   "execution_count": 4,
   "metadata": {},
   "outputs": [
    {
     "name": "stdout",
     "output_type": "stream",
     "text": [
      "Fibonacci Sequence with 7 terms: 0, 1, 1, 2, 3, 5, 8, 13\n"
     ]
    }
   ],
   "source": [
    "def fibonacci_sequence(n):\n",
    "    if n == 0:\n",
    "        return []\n",
    "    elif n == 1:\n",
    "        return [0]\n",
    "    else:\n",
    "        fib_sequence = [0, 1]\n",
    "        [fib_sequence.append(fib_sequence[-1] + fib_sequence[-2]) for _ in range(2, n)]\n",
    "        return fib_sequence\n",
    "\n",
    "def main():\n",
    "    try:\n",
    "        n = int(input(\"Enter a value for n: \"))\n",
    "        \n",
    "        fib_sequence = fibonacci_sequence(n)\n",
    "        \n",
    "        print(f\"Fibonacci Sequence with {n} terms: {', '.join(map(str, fib_sequence))}\")\n",
    "    \n",
    "    except ValueError:\n",
    "        print(\"Please enter a valid integer value for n.\")\n",
    "\n",
    "if __name__ == \"__main__\":\n",
    "    main()"
   ]
  },
  {
   "cell_type": "markdown",
   "metadata": {},
   "source": [
    "Question 4:\n",
    "\n",
    "Assuming that we have some email addresses in the \"username@companyname.com\" format, please write program to print the user name of a given email address. Both user names and company names are composed of letters only.\n",
    "\n",
    "Example:\n",
    "\n",
    "If the following email address is given as input to the program:\n",
    "\n",
    "john@google.com\n",
    "\n",
    "Then, the output of the program should be:\n",
    "\n",
    "john"
   ]
  },
  {
   "cell_type": "code",
   "execution_count": 5,
   "metadata": {},
   "outputs": [
    {
     "name": "stdout",
     "output_type": "stream",
     "text": [
      "The username is: john\n"
     ]
    }
   ],
   "source": [
    "def extract_username(email):\n",
    "    # Split the email at '@' to get the username\n",
    "    username = email.split('@')[0]\n",
    "    return username\n",
    "\n",
    "def main():\n",
    "    try:\n",
    "        email = input(\"Enter an email address: \")\n",
    "        \n",
    "        username = extract_username(email)\n",
    "        \n",
    "        print(f\"The username is: {username}\")\n",
    "    \n",
    "    except ValueError:\n",
    "        print(\"Please enter a valid email address.\")\n",
    "\n",
    "if __name__ == \"__main__\":\n",
    "    main()"
   ]
  },
  {
   "cell_type": "markdown",
   "metadata": {},
   "source": [
    "Question 5:\n",
    "Define a class named Shape and its subclass Square. The Square class has an init function which takes a length as argument. Both classes have a area function which can print the area of the shape where Shape's area is 0 by default."
   ]
  },
  {
   "cell_type": "code",
   "execution_count": 7,
   "metadata": {},
   "outputs": [
    {
     "name": "stdout",
     "output_type": "stream",
     "text": [
      "Input Value : 5.0\n",
      "The area of the square is: 25.0\n"
     ]
    }
   ],
   "source": [
    "class Shape:\n",
    "    def __init__(self):\n",
    "        pass\n",
    "\n",
    "    def area(self):\n",
    "        return 0\n",
    "\n",
    "class Square(Shape):\n",
    "    def __init__(self, length):\n",
    "        self.length = length\n",
    "\n",
    "    def area(self):\n",
    "        return self.length * self.length\n",
    "\n",
    "def main():\n",
    "    try:\n",
    "        length = float(input(\"Enter the length of the square: \"))\n",
    "        print(\"Input Value :\", length)\n",
    "        \n",
    "        square = Square(length)\n",
    "        square_area = square.area()\n",
    "        \n",
    "        print(f\"The area of the square is: {square_area}\")\n",
    "    \n",
    "    except ValueError:\n",
    "        print(\"Please enter a valid length.\")\n",
    "\n",
    "if __name__ == \"__main__\":\n",
    "    main()"
   ]
  }
 ],
 "metadata": {
  "kernelspec": {
   "display_name": "Python 3",
   "language": "python",
   "name": "python3"
  },
  "language_info": {
   "codemirror_mode": {
    "name": "ipython",
    "version": 3
   },
   "file_extension": ".py",
   "mimetype": "text/x-python",
   "name": "python",
   "nbconvert_exporter": "python",
   "pygments_lexer": "ipython3",
   "version": "3.10.8"
  },
  "orig_nbformat": 4
 },
 "nbformat": 4,
 "nbformat_minor": 2
}
