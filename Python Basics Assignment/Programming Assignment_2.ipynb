{
 "cells": [
  {
   "cell_type": "markdown",
   "id": "93ff4278",
   "metadata": {},
   "source": [
    "### Programming Assignment_2"
   ]
  },
  {
   "cell_type": "markdown",
   "id": "414598de",
   "metadata": {},
   "source": [
    "#### 1. Write a Python program to convert kilometers to miles?"
   ]
  },
  {
   "cell_type": "code",
   "execution_count": 1,
   "id": "24d7de11",
   "metadata": {},
   "outputs": [
    {
     "name": "stdout",
     "output_type": "stream",
     "text": [
      "Enter a value to convert miles== 56\n",
      "56.00 kilometers is equal to 34.7968 miles\n"
     ]
    }
   ],
   "source": [
    "Kilometer = int(input(\"Enter a value to convert miles== \"))\n",
    "# 1 Kilometre = 0.621371 Mile\n",
    "conversion_factor = 0.621371\n",
    "miles = Kilometer*conversion_factor\n",
    "print('%0.2f kilometers is equal to %0.4f miles' %(Kilometer, miles))"
   ]
  },
  {
   "cell_type": "markdown",
   "id": "720f7200",
   "metadata": {},
   "source": [
    "#### 2. Write a Python program to convert Celsius to Fahrenheit?"
   ]
  },
  {
   "cell_type": "code",
   "execution_count": 2,
   "id": "e2953d38",
   "metadata": {},
   "outputs": [
    {
     "name": "stdout",
     "output_type": "stream",
     "text": [
      "Enter a value to convert Fahrenheit ==56\n",
      "56.00 degree celcius is equal to 132.0 degree Fahrenheit\n"
     ]
    }
   ],
   "source": [
    "def celciusTofahrenheit():\n",
    "    celcius = int(input(\"Enter a value to convert Fahrenheit ==\"))\n",
    "    fahrenheit = (celcius*9//5)+32\n",
    "    print('%0.2f degree celcius is equal to %0.1f degree Fahrenheit' %(celcius, fahrenheit))\n",
    "celciusTofahrenheit()"
   ]
  },
  {
   "cell_type": "markdown",
   "id": "c9f194c6",
   "metadata": {},
   "source": [
    "#### 3. Write a Python program to display calendar?"
   ]
  },
  {
   "cell_type": "code",
   "execution_count": 3,
   "id": "3175065c",
   "metadata": {},
   "outputs": [
    {
     "name": "stdout",
     "output_type": "stream",
     "text": [
      "Enter year: 2022\n",
      "Enter month: 10\n",
      "    October 2022\n",
      "Mo Tu We Th Fr Sa Su\n",
      "                1  2\n",
      " 3  4  5  6  7  8  9\n",
      "10 11 12 13 14 15 16\n",
      "17 18 19 20 21 22 23\n",
      "24 25 26 27 28 29 30\n",
      "31\n",
      "\n"
     ]
    }
   ],
   "source": [
    "import calendar\n",
    "def displayCalender():\n",
    "    year = int(input(\"Enter year: \"))\n",
    "    month = int(input(\"Enter month: \"))\n",
    "    print(calendar.month(year, month))\n",
    "displayCalender()"
   ]
  },
  {
   "cell_type": "markdown",
   "id": "9e2cf1ca",
   "metadata": {},
   "source": [
    "#### 4. Write a Python program to solve quadratic equation?"
   ]
  },
  {
   "cell_type": "code",
   "execution_count": 4,
   "id": "6a62a9ce",
   "metadata": {},
   "outputs": [
    {
     "name": "stdout",
     "output_type": "stream",
     "text": [
      "Enter value a = 6\n",
      "Enter value b = 7\n",
      "Enter value c = 8\n",
      "Complex Roots\n",
      "-0.5833333333333334  + i  11.958260743101398\n",
      "-0.5833333333333334  - i  11.958260743101398\n"
     ]
    }
   ],
   "source": [
    "import math\n",
    "\n",
    "def quadarticEquationRoots(a,b,c):\n",
    "    \n",
    "    discriminant = (b*b)-(4*a*c)\n",
    "    sqrtvalue = math.sqrt(abs(discriminant))\n",
    "    if discriminant > 0:\n",
    "        print(\"Real and Different Roots\")\n",
    "        print((-b + sqrtvalue)/(2*a))\n",
    "        print((-b - sqrtvalue)/(2*a))\n",
    "        \n",
    "    elif discriminant == 0: \n",
    "        print(\"Real and same roots\") \n",
    "        print(-b / (2 * a))\n",
    "        \n",
    "    else:\n",
    "        print(\"Complex Roots\")\n",
    "        print(-b / (2*a), \" + i \", sqrtvalue)\n",
    "        print(-b / (2*a), \" - i \", sqrtvalue) \n",
    "        \n",
    "a = int(input(\"Enter value a = \"))\n",
    "b = int(input(\"Enter value b = \"))\n",
    "c = int(input(\"Enter value c = \"))\n",
    "quadarticEquationRoots(a, b, c)"
   ]
  },
  {
   "cell_type": "markdown",
   "id": "606c3301",
   "metadata": {},
   "source": [
    "#### 5. Write a Python program to swap two variables without temp variable?"
   ]
  },
  {
   "cell_type": "code",
   "execution_count": 5,
   "id": "5a8c4037",
   "metadata": {},
   "outputs": [
    {
     "name": "stdout",
     "output_type": "stream",
     "text": [
      "Input value 1: A\n",
      "Input value 2: B\n",
      "Before swapping: \n",
      "Value of input_1 :  A  and input_2 :  B\n",
      "After swapping: \n",
      "Value of input_1 :  B  and input_2 :  A\n"
     ]
    }
   ],
   "source": [
    "input_1 = input(\"Input value 1: \")\n",
    "input_2 = input(\"Input value 2: \")\n",
    "\n",
    "def sawp(input_1, input_2):\n",
    "    print (\"Before swapping: \")\n",
    "    print(\"Value of input_1 : \", input_1, \" and input_2 : \", input_2)\n",
    "    input_1, input_2 = input_2, input_1\n",
    "    print (\"After swapping: \")\n",
    "    print(\"Value of input_1 : \", input_1, \" and input_2 : \", input_2)\n",
    "    \n",
    "sawp(input_1, input_2)"
   ]
  }
 ],
 "metadata": {
  "kernelspec": {
   "display_name": "Python 3 (ipykernel)",
   "language": "python",
   "name": "python3"
  },
  "language_info": {
   "codemirror_mode": {
    "name": "ipython",
    "version": 3
   },
   "file_extension": ".py",
   "mimetype": "text/x-python",
   "name": "python",
   "nbconvert_exporter": "python",
   "pygments_lexer": "ipython3",
   "version": "3.9.13"
  }
 },
 "nbformat": 4,
 "nbformat_minor": 5
}
