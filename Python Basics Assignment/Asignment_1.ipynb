{
 "cells": [
  {
   "cell_type": "markdown",
   "id": "b2406bad",
   "metadata": {},
   "source": [
    "### Assignment 1 Solutions"
   ]
  },
  {
   "cell_type": "markdown",
   "id": "a900e869",
   "metadata": {},
   "source": [
    "#### 1. In the below elements which of them are values or an expression? **eg:-** values can be integer or string and expressions will be mathematical operators.  \n",
    "`*`,`'hello'`, `-87.8`,`-`,`/`,`+`,`6`\n",
    "\n",
    "**Ans:** There are a total of 4 Operators and 3 Expressions, They are:  \n",
    "**Expressions:** `*`,`-`,`/`,`+`  \n",
    "**Values:** `'hello'`, `87.8`, `6`"
   ]
  },
  {
   "cell_type": "markdown",
   "id": "11ebe07d",
   "metadata": {},
   "source": [
    "#### 2. What is the difference between string and variable?\n",
    "**Ans:** A Variable is used to store of information, and a String is a type of information you would store in a Variable. A String is a group of characters or a single character usually enclosed in Double quotes `\" \"` or single quotes `' '`\n",
    "\n",
    "**Example :** data = \"Hello, World\", here data is 'variable', 'Hello, World' is string"
   ]
  },
  {
   "cell_type": "markdown",
   "id": "07436565",
   "metadata": {},
   "source": [
    "#### 3. Describe three different Data Types ?\n",
    "**Ans:** Three fundamental Data types in python are `int`, `float`, `complex`.\n",
    "1. **int data type**: This value is represented by int class. It contains positive or negative whole numbers (without fraction or decimal, integral values)\n",
    "2. **float data type**: This value is represented by float class. It is a real number with floating point representation. It is specified by a decimal point (decimal values)\n",
    "3. **complex data type**: Complex number is represented by complex class. It is specified as (real part) + (imaginary part)j. "
   ]
  },
  {
   "cell_type": "code",
   "execution_count": 4,
   "id": "8e8a3144",
   "metadata": {},
   "outputs": [
    {
     "name": "stdout",
     "output_type": "stream",
     "text": [
      "Type of a:  <class 'int'>\n",
      "\n",
      "Type of b:  <class 'float'>\n",
      "\n",
      "Type of c:  <class 'complex'>\n"
     ]
    }
   ],
   "source": [
    "# Example for Question 3. Describe three different Data Types ?\n",
    "a = 5\n",
    "print(\"Type of a: \", type(a))\n",
    "  \n",
    "b = 5.0\n",
    "print(\"\\nType of b: \", type(b))\n",
    "  \n",
    "c = 2 + 4j\n",
    "print(\"\\nType of c: \", type(c))"
   ]
  },
  {
   "cell_type": "markdown",
   "id": "eb2df536",
   "metadata": {},
   "source": [
    "#### 4. What is an expression made up of? What do all expressions do?\n",
    "**Ans:** An expression is a construct made up of variables, operators, and method invocations, which are constructed according to the syntax of the language, that evaluates to a single value."
   ]
  },
  {
   "cell_type": "markdown",
   "id": "fc993705",
   "metadata": {},
   "source": [
    "#### 5. This assignment statements, like spam = 10. What is the difference between an expression and a statement?\n",
    "**Ans:**"
   ]
  },
  {
   "cell_type": "markdown",
   "id": "cd2503d4",
   "metadata": {},
   "source": [
    "#### 6. After running the following code, what does the variable bacon contain? \n",
    "**bacon**= 22\n",
    "\n",
    "**bacon**+ 1\n",
    "\n",
    "**Ans:** The variable bacon output is 22. The expression bacon + 1 does not reassign any value to bacon,But in case of becon = becon + 1 will assign the values to becon"
   ]
  },
  {
   "cell_type": "code",
   "execution_count": 1,
   "id": "e027e5e5",
   "metadata": {},
   "outputs": [
    {
     "name": "stdout",
     "output_type": "stream",
     "text": [
      "22\n"
     ]
    }
   ],
   "source": [
    "# Question 6\n",
    "# Example Case#1\n",
    "bacon=22\n",
    "bacon+1\n",
    "print(bacon)"
   ]
  },
  {
   "cell_type": "code",
   "execution_count": 2,
   "id": "5852cb2f",
   "metadata": {},
   "outputs": [
    {
     "name": "stdout",
     "output_type": "stream",
     "text": [
      "23\n"
     ]
    }
   ],
   "source": [
    "# Question 6\n",
    "#Example Case#2\n",
    "bacon=22\n",
    "bacon=bacon+1 \n",
    "print(bacon)"
   ]
  },
  {
   "cell_type": "markdown",
   "id": "dccc7320",
   "metadata": {},
   "source": [
    "#### 7. What should the values of the following two terms be?\n",
    "'spam'+'spamspam'\n",
    "\n",
    "'spam'*3\n",
    "\n",
    "**Ans:** Both the cases of answer is same 'spamspamspam'"
   ]
  },
  {
   "cell_type": "code",
   "execution_count": 3,
   "id": "44894fb6",
   "metadata": {},
   "outputs": [
    {
     "data": {
      "text/plain": [
       "'spamspamspam'"
      ]
     },
     "execution_count": 3,
     "metadata": {},
     "output_type": "execute_result"
    }
   ],
   "source": [
    "# 7th Question Answer\n",
    "'spam' + 'spamspam' #String Concatentation"
   ]
  },
  {
   "cell_type": "code",
   "execution_count": 5,
   "id": "9d3c651f",
   "metadata": {},
   "outputs": [
    {
     "data": {
      "text/plain": [
       "'spamspamspam'"
      ]
     },
     "execution_count": 5,
     "metadata": {},
     "output_type": "execute_result"
    }
   ],
   "source": [
    "# 7th Question Answer\n",
    "'spam'*3 #String Multiplication"
   ]
  },
  {
   "cell_type": "markdown",
   "id": "2586d92d",
   "metadata": {},
   "source": [
    "#### 8. Why is eggs a valid variable name while 100 is invalid?\n",
    "\n",
    "**Ans:** As per python,Variable names cannot begin with a number. The python rules for naming a variable are :- \n",
    "1. Variable name must start with a letter or the underscore character.\n",
    "2. Variable name cannot start with a number.\n",
    "3. Variable name can only contain alpha-numeric characters and underscores (A-z, 0-9, & _ ).\n",
    "4. Variable names are case-sensitive (name, `INEURON` and `ineuron` are three different variables).\n",
    "5. The reserved words(keywords) cannot be used naming the variable."
   ]
  },
  {
   "cell_type": "code",
   "execution_count": 7,
   "id": "d9982944",
   "metadata": {},
   "outputs": [
    {
     "name": "stdout",
     "output_type": "stream",
     "text": [
      "Ineuron\n"
     ]
    }
   ],
   "source": [
    "egg='Ineuron' # Valid variable \n",
    "print(egg) #prints the value of egg ie Ineuron"
   ]
  },
  {
   "cell_type": "code",
   "execution_count": 8,
   "id": "77fd25e3",
   "metadata": {},
   "outputs": [
    {
     "ename": "SyntaxError",
     "evalue": "cannot assign to literal (Temp/ipykernel_18312/3966308127.py, line 1)",
     "output_type": "error",
     "traceback": [
      "\u001b[1;36m  File \u001b[1;32m\"C:\\Users\\Admin\\AppData\\Local\\Temp/ipykernel_18312/3966308127.py\"\u001b[1;36m, line \u001b[1;32m1\u001b[0m\n\u001b[1;33m    100='hello' # Invalid Variable\u001b[0m\n\u001b[1;37m    ^\u001b[0m\n\u001b[1;31mSyntaxError\u001b[0m\u001b[1;31m:\u001b[0m cannot assign to literal\n"
     ]
    }
   ],
   "source": [
    "100='hello' # Invalid Variable\n",
    "print(100) # Raises a Syntax Error as 100 is not a valid variable name"
   ]
  },
  {
   "cell_type": "markdown",
   "id": "a35ec5c3",
   "metadata": {},
   "source": [
    "#### 9.What three functions can be used to get the integer,floating-point number,or string version of a value?\n",
    "**Ans:** The `int()`,`float()`,and `str()` functions will evaluate to the integer,floating-point number,string version of the value given to them."
   ]
  },
  {
   "cell_type": "code",
   "execution_count": 12,
   "id": "3ad49834",
   "metadata": {},
   "outputs": [
    {
     "name": "stdout",
     "output_type": "stream",
     "text": [
      "int(100.0) ->  100\n",
      "float(100) ->  100.0\n",
      "str(100) ->  100\n"
     ]
    }
   ],
   "source": [
    "# Question 9 amples \n",
    "print('int(100.0) -> ',int(100.0)) # int() function converts given input to int\n",
    "print('float(100) -> ',float(100)) # float() function converts given input to float\n",
    "print('str(100) -> ',str(100)) # str() function converts given input to string"
   ]
  },
  {
   "cell_type": "markdown",
   "id": "4578328e",
   "metadata": {},
   "source": [
    "#### 10.Why does this expression cause an error? how can you fix it?  \n",
    "`'I have eaten ' + 99 + 'burritos.'`\n",
    "\n",
    "**Ans:** The reason for error is 99.because 99 is not a string. 99 must be typecasted to a string to fix this error. the correct way is:  \n",
    "**Input:** `'I have eaten ' + str(99) + 'burritos.'`  \n",
    "**Output:** `'I have eaten 99 burritos.'`"
   ]
  },
  {
   "cell_type": "code",
   "execution_count": 13,
   "id": "7a0e5f7e",
   "metadata": {},
   "outputs": [
    {
     "data": {
      "text/plain": [
       "'I have eaten 99burritos.'"
      ]
     },
     "execution_count": 13,
     "metadata": {},
     "output_type": "execute_result"
    }
   ],
   "source": [
    "'I have eaten ' + str(99) + 'burritos.'"
   ]
  }
 ],
 "metadata": {
  "kernelspec": {
   "display_name": "Python 3 (ipykernel)",
   "language": "python",
   "name": "python3"
  },
  "language_info": {
   "codemirror_mode": {
    "name": "ipython",
    "version": 3
   },
   "file_extension": ".py",
   "mimetype": "text/x-python",
   "name": "python",
   "nbconvert_exporter": "python",
   "pygments_lexer": "ipython3",
   "version": "3.9.7"
  }
 },
 "nbformat": 4,
 "nbformat_minor": 5
}
