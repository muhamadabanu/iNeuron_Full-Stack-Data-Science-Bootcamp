{
 "cells": [
  {
   "attachments": {},
   "cell_type": "markdown",
   "metadata": {},
   "source": [
    "### Programming Assignment_8"
   ]
  },
  {
   "attachments": {},
   "cell_type": "markdown",
   "metadata": {},
   "source": [
    "##### 1. Write a Python Program to Add Two Matrices?"
   ]
  },
  {
   "cell_type": "code",
   "execution_count": 6,
   "metadata": {},
   "outputs": [
    {
     "name": "stdout",
     "output_type": "stream",
     "text": [
      "Enter the values for matrix1: \n",
      "matrix1 =  [[1, 2], [3, 4]]\n",
      "Enter the values for matrix2: \n",
      "matrix2 =  [[5, 6], [7, 8]]\n",
      "The sum of the matrices is:\n",
      "[6, 8]\n",
      "[10, 12]\n"
     ]
    }
   ],
   "source": [
    "# Prompt user to input matrix size\n",
    "rows = int(input(\"Enter the number of rows for the matrices: \"))\n",
    "cols = int(input(\"Enter the number of columns for the matrices: \"))\n",
    "\n",
    "# Initialize matrices as empty lists\n",
    "matrix1 = []\n",
    "matrix2 = []\n",
    "\n",
    "# Input values for matrix1\n",
    "print(\"Enter the values for matrix1: \")\n",
    "for i in range(rows):\n",
    "    row = []\n",
    "    for j in range(cols):\n",
    "        val = int(input(f\"Enter the value for ({i+1}, {j+1}): \"))\n",
    "        row.append(val)\n",
    "    matrix1.append(row)\n",
    "print(\"matrix1 = \", matrix1)\n",
    "\n",
    "# Input values for matrix2\n",
    "print(\"Enter the values for matrix2: \")\n",
    "for i in range(rows):\n",
    "    row = []\n",
    "    for j in range(cols):\n",
    "        val = int(input(f\"Enter the value for ({i+1}, {j+1}): \"))\n",
    "        row.append(val)\n",
    "    matrix2.append(row)\n",
    "print(\"matrix2 = \", matrix2)\n",
    "\n",
    "# Add the matrices\n",
    "result = []\n",
    "for i in range(rows):\n",
    "    row = []\n",
    "    for j in range(cols):\n",
    "        val = matrix1[i][j] + matrix2[i][j]\n",
    "        row.append(val)\n",
    "    result.append(row)\n",
    "\n",
    "# Print the result\n",
    "print(\"The sum of the matrices is:\")\n",
    "for row in result:\n",
    "    print(row)"
   ]
  },
  {
   "attachments": {},
   "cell_type": "markdown",
   "metadata": {},
   "source": [
    "##### 2. Write a Python Program to Multiply Two Matrices?"
   ]
  },
  {
   "cell_type": "code",
   "execution_count": 7,
   "metadata": {},
   "outputs": [
    {
     "name": "stdout",
     "output_type": "stream",
     "text": [
      "Enter the values for matrix1: \n",
      "matrix1 =  [[1, 2], [3, 4]]\n",
      "Enter the values for matrix2: \n",
      "matrix2 =  [[5, 6], [7, 8]]\n",
      "The sum of the matrices is:\n",
      "[5, 12]\n",
      "[21, 32]\n"
     ]
    }
   ],
   "source": [
    "# Prompt user to input matrix size\n",
    "rows = int(input(\"Enter the number of rows for the matrices: \"))\n",
    "cols = int(input(\"Enter the number of columns for the matrices: \"))\n",
    "\n",
    "# Initialize matrices as empty lists\n",
    "matrix1 = []\n",
    "matrix2 = []\n",
    "\n",
    "# Input values for matrix1\n",
    "print(\"Enter the values for matrix1: \")\n",
    "for i in range(rows):\n",
    "    row = []\n",
    "    for j in range(cols):\n",
    "        val = int(input(f\"Enter the value for ({i+1}, {j+1}): \"))\n",
    "        row.append(val)\n",
    "    matrix1.append(row)\n",
    "print(\"matrix1 = \", matrix1)\n",
    "\n",
    "# Input values for matrix2\n",
    "print(\"Enter the values for matrix2: \")\n",
    "for i in range(rows):\n",
    "    row = []\n",
    "    for j in range(cols):\n",
    "        val = int(input(f\"Enter the value for ({i+1}, {j+1}): \"))\n",
    "        row.append(val)\n",
    "    matrix2.append(row)\n",
    "print(\"matrix2 = \", matrix2)\n",
    "\n",
    "# Multipay the matrices\n",
    "result = []\n",
    "for i in range(rows):\n",
    "    row = []\n",
    "    for j in range(cols):\n",
    "        val = matrix1[i][j] * matrix2[i][j]\n",
    "        row.append(val)\n",
    "    result.append(row)\n",
    "\n",
    "# Print the result\n",
    "print(\"The sum of the matrices is:\")\n",
    "for row in result:\n",
    "    print(row)"
   ]
  },
  {
   "attachments": {},
   "cell_type": "markdown",
   "metadata": {},
   "source": [
    "##### 3. Write a Python Program to Transpose a Matrix?"
   ]
  },
  {
   "cell_type": "code",
   "execution_count": 9,
   "metadata": {},
   "outputs": [
    {
     "name": "stdout",
     "output_type": "stream",
     "text": [
      "Enter the values for matrix1: \n",
      "matrix =  [[1, 2], [3, 4]]\n",
      "Transposed Matrix:\n",
      "1\t3\t\n",
      "2\t4\t\n"
     ]
    }
   ],
   "source": [
    "# Prompt user to input matrix size\n",
    "rows = int(input(\"Enter the number of rows for the matrices: \"))\n",
    "cols = int(input(\"Enter the number of columns for the matrices: \"))\n",
    "\n",
    "# Create matrix\n",
    "matrix = []\n",
    "print(\"Enter the values for matrix1: \")\n",
    "for i in range(rows):\n",
    "    row = []\n",
    "    for j in range(cols):\n",
    "        val = int(input(f\"Enter the value for ({i+1}, {j+1}): \"))\n",
    "        row.append(val)\n",
    "    matrix.append(row)\n",
    "print(\"matrix = \", matrix)\n",
    "\n",
    "# Transpose the matrix\n",
    "transpose = []\n",
    "for j in range(cols):\n",
    "    row = []\n",
    "    for i in range(rows):\n",
    "        row.append(matrix[i][j])\n",
    "    transpose.append(row)\n",
    "\n",
    "# Print the transposed matrix\n",
    "print(\"Transposed Matrix:\")\n",
    "for i in range(cols):\n",
    "    for j in range(rows):\n",
    "        print(transpose[i][j], end=\"\\t\")\n",
    "    print()"
   ]
  },
  {
   "attachments": {},
   "cell_type": "markdown",
   "metadata": {},
   "source": [
    "##### 4. Write a Python Program to Sort Words in Alphabetic Order?"
   ]
  },
  {
   "cell_type": "code",
   "execution_count": 10,
   "metadata": {},
   "outputs": [
    {
     "name": "stdout",
     "output_type": "stream",
     "text": [
      "Input String : Write a Python Program to Sort Words in Alphabetic Order\n",
      "Sorted words: Alphabetic Order Program Python Sort Words Write a in to\n"
     ]
    }
   ],
   "source": [
    "words = input(\"Enter a string: \")\n",
    "print(\"Input String :\",words)\n",
    "words_list = words.split()\n",
    "sorted_words = sorted(words_list)\n",
    "sorted_string = \" \".join(sorted_words)\n",
    "print(\"Sorted words:\", sorted_string)"
   ]
  },
  {
   "attachments": {},
   "cell_type": "markdown",
   "metadata": {},
   "source": [
    "##### 5. Write a Python Program to Remove Punctuation From a String?"
   ]
  },
  {
   "cell_type": "code",
   "execution_count": 12,
   "metadata": {},
   "outputs": [
    {
     "name": "stdout",
     "output_type": "stream",
     "text": [
      "Hello he said and went\n"
     ]
    }
   ],
   "source": [
    "# define punctuation\n",
    "punctuations = '''!()-[]{};:'\"\\,<>./?@#$%^&*_~'''\n",
    "\n",
    "my_str = \"Hello!!!, he said ---and went.\"\n",
    "# remove punctuation from the string\n",
    "no_punct = \"\"\n",
    "for char in my_str:\n",
    "   if char not in punctuations:\n",
    "       no_punct = no_punct + char\n",
    "\n",
    "# display the unpunctuated string\n",
    "print(no_punct)"
   ]
  }
 ],
 "metadata": {
  "kernelspec": {
   "display_name": "local_env",
   "language": "python",
   "name": "python3"
  },
  "language_info": {
   "codemirror_mode": {
    "name": "ipython",
    "version": 3
   },
   "file_extension": ".py",
   "mimetype": "text/x-python",
   "name": "python",
   "nbconvert_exporter": "python",
   "pygments_lexer": "ipython3",
   "version": "3.10.8"
  },
  "orig_nbformat": 4
 },
 "nbformat": 4,
 "nbformat_minor": 2
}
