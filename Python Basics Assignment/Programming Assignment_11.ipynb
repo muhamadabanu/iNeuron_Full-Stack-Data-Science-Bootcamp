{
 "cells": [
  {
   "attachments": {},
   "cell_type": "markdown",
   "metadata": {},
   "source": [
    "### Programming Assignment_11"
   ]
  },
  {
   "attachments": {},
   "cell_type": "markdown",
   "metadata": {},
   "source": [
    "##### 1. Write a Python program to find words which are greater than given length k?"
   ]
  },
  {
   "cell_type": "code",
   "execution_count": 16,
   "metadata": {},
   "outputs": [
    {
     "name": "stdout",
     "output_type": "stream",
     "text": [
      "['Python', 'program', 'greater', 'length']\n"
     ]
    }
   ],
   "source": [
    "def string_K(string, k):\n",
    "    temp = []\n",
    "    text = string.split(\" \")\n",
    "    for x in text:\n",
    "        if len(x) > k:\n",
    "            temp.append(x)\n",
    "    return temp\n",
    "        \n",
    "k = 5\n",
    "str = \"Write a Python program to find words which are greater than given length k\"\n",
    "print(string_K(str, k))"
   ]
  },
  {
   "attachments": {},
   "cell_type": "markdown",
   "metadata": {},
   "source": [
    "##### 2. Write a Python program for removing i-th character from a string?"
   ]
  },
  {
   "cell_type": "code",
   "execution_count": 14,
   "metadata": {},
   "outputs": [
    {
     "name": "stdout",
     "output_type": "stream",
     "text": [
      "Pyton Program\n"
     ]
    }
   ],
   "source": [
    "def remove_char(s, i):\n",
    "    a = s[ : i]\n",
    "    b = s[i + 1: ]\n",
    "\n",
    "    return a+b\n",
    "\n",
    "string = \"Python Program\"\n",
    "i = 4\n",
    "print(remove_char(string,i-1))"
   ]
  },
  {
   "attachments": {},
   "cell_type": "markdown",
   "metadata": {},
   "source": [
    "##### 3. Write a Python program to split and join a string?"
   ]
  },
  {
   "cell_type": "code",
   "execution_count": 13,
   "metadata": {},
   "outputs": [
    {
     "name": "stdout",
     "output_type": "stream",
     "text": [
      "Input string:  Write a Python program to split and join a string\n",
      "Splitted string : ['Write', 'a', 'Python', 'program', 'to', 'split', 'and', 'join', 'a', 'string']\n",
      "Joined String : Write-a-Python-program-to-split-and-join-a-string\n"
     ]
    }
   ],
   "source": [
    "def split_string(string):\n",
    "    splitted_string = string.split(' ')\n",
    "    return splitted_string\n",
    "\n",
    "def join_string(splitted_string):\n",
    "    join_string = '-'.join(splitted_string)\n",
    "    return join_string\n",
    "\n",
    "string = \"Write a Python program to split and join a string\"\n",
    "print(\"Input string: \",string)\n",
    "list_string = split_string(string)\n",
    "print(\"Splitted string :\", list_string)\n",
    "\n",
    "new_string = join_string(list_string)\n",
    "print(\"Joined String :\", new_string)"
   ]
  },
  {
   "attachments": {},
   "cell_type": "markdown",
   "metadata": {},
   "source": [
    "##### 4. Write a Python to check if a given string is binary string or not?"
   ]
  },
  {
   "cell_type": "code",
   "execution_count": 9,
   "metadata": {},
   "outputs": [
    {
     "name": "stdout",
     "output_type": "stream",
     "text": [
      "Yes, Binary String\n"
     ]
    }
   ],
   "source": [
    "def check_binary(string) :\n",
    "    b = set(string)\n",
    "    s = {'0', '1'}\n",
    "    if s == b or b == {'0'} or b == {'1'}:\n",
    "        print(\"Yes, Binary String\")\n",
    "    else :\n",
    "        print(\"No, Its not a Binary String\")\n",
    "        \n",
    "string = \"101010101010\"\n",
    "check_binary(string)"
   ]
  },
  {
   "attachments": {},
   "cell_type": "markdown",
   "metadata": {},
   "source": [
    "##### 5. Write a Python program to find uncommon words from two Strings?"
   ]
  },
  {
   "cell_type": "code",
   "execution_count": 6,
   "metadata": {},
   "outputs": [
    {
     "data": {
      "text/plain": [
       "['apple', 'fruits']"
      ]
     },
     "execution_count": 6,
     "metadata": {},
     "output_type": "execute_result"
    }
   ],
   "source": [
    "def uncommon_words(list1, list2):\n",
    "    set1 = set(list1.split())\n",
    "    set2 = set(list2.split())\n",
    "    \n",
    "    uncommon_words = set1.difference(set2).union(set2.difference(set1))\n",
    "    return list(uncommon_words)\n",
    "\n",
    "list1 = \"apple banana mango\"\n",
    "list2 = \"banana fruits mango\"\n",
    "uncommon_words(list1, list2)"
   ]
  },
  {
   "attachments": {},
   "cell_type": "markdown",
   "metadata": {},
   "source": [
    "##### 6. Write a Python to find all duplicate characters in string?"
   ]
  },
  {
   "cell_type": "code",
   "execution_count": 4,
   "metadata": {},
   "outputs": [
    {
     "name": "stdout",
     "output_type": "stream",
     "text": [
      "['c', 'a']\n"
     ]
    }
   ],
   "source": [
    "def duplicate_characters(string):\n",
    "    chars = {}\n",
    "    for char in string:\n",
    "        if char not in chars:\n",
    "            chars[char] = 1\n",
    "        else:\n",
    "            chars[char] += 1\n",
    "    duplicates = []\n",
    "    for char, count in chars.items():\n",
    "        if count > 1:\n",
    "            duplicates.append(char)\n",
    " \n",
    "    return duplicates\n",
    "\n",
    "print(duplicate_characters(\"duplicate_chars\"))"
   ]
  },
  {
   "attachments": {},
   "cell_type": "markdown",
   "metadata": {},
   "source": [
    "##### 7. Write a Python Program to check if a string contains any special character?"
   ]
  },
  {
   "cell_type": "code",
   "execution_count": 3,
   "metadata": {},
   "outputs": [
    {
     "name": "stdout",
     "output_type": "stream",
     "text": [
      "Input String :  Python, Java, C/C++, DSA, SQL, HTML CSS JavaScript, etc…\n",
      "The string contains special characters.\n"
     ]
    }
   ],
   "source": [
    "import re\n",
    "string = input('Enter any string: ')\n",
    "print(\"Input String : \", string)\n",
    "if(bool(re.search('^[a-zA-Z0-9]*$', string)) == True):\n",
    "    print('String does not contain any special characters.')\n",
    "else:\n",
    "    print('The string contains special characters.')"
   ]
  }
 ],
 "metadata": {
  "kernelspec": {
   "display_name": "_venv_",
   "language": "python",
   "name": "python3"
  },
  "language_info": {
   "codemirror_mode": {
    "name": "ipython",
    "version": 3
   },
   "file_extension": ".py",
   "mimetype": "text/x-python",
   "name": "python",
   "nbconvert_exporter": "python",
   "pygments_lexer": "ipython3",
   "version": "3.10.8"
  },
  "orig_nbformat": 4
 },
 "nbformat": 4,
 "nbformat_minor": 2
}
