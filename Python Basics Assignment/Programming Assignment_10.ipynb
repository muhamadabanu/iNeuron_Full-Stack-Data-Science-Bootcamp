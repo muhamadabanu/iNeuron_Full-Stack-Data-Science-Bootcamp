{
 "cells": [
  {
   "attachments": {},
   "cell_type": "markdown",
   "metadata": {},
   "source": [
    "### Programming Assignment_10"
   ]
  },
  {
   "attachments": {},
   "cell_type": "markdown",
   "metadata": {},
   "source": [
    "##### 1. Write a Python program to find sum of elements in list?"
   ]
  },
  {
   "cell_type": "code",
   "execution_count": 15,
   "metadata": {},
   "outputs": [
    {
     "name": "stdout",
     "output_type": "stream",
     "text": [
      "The sum of elements in the list is: 15\n"
     ]
    }
   ],
   "source": [
    "my_list = [1, 2, 3, 4, 5]\n",
    "list_sum = sum(my_list)\n",
    "print(\"The sum of elements in the list is:\", list_sum)"
   ]
  },
  {
   "attachments": {},
   "cell_type": "markdown",
   "metadata": {},
   "source": [
    "##### 2. Write a Python program to Multiply all numbers in the list?"
   ]
  },
  {
   "cell_type": "code",
   "execution_count": 18,
   "metadata": {},
   "outputs": [
    {
     "name": "stdout",
     "output_type": "stream",
     "text": [
      "720\n"
     ]
    }
   ],
   "source": [
    "def multiplyList(myList):\n",
    "    result = 1\n",
    "    for x in myList:\n",
    "        result = result * x\n",
    "    return result\n",
    "\n",
    "\n",
    "multiply_list = [2, 3, 4, 5, 6]\n",
    "print(multiplyList(multiply_list))"
   ]
  },
  {
   "attachments": {},
   "cell_type": "markdown",
   "metadata": {},
   "source": [
    "##### 3. Write a Python program to find smallest number in a list?"
   ]
  },
  {
   "cell_type": "code",
   "execution_count": 19,
   "metadata": {},
   "outputs": [
    {
     "name": "stdout",
     "output_type": "stream",
     "text": [
      "The sum of elements in the list is: 1\n"
     ]
    }
   ],
   "source": [
    "my_list = [1, 2, 3, 4, 5]\n",
    "smallest_num = min(my_list)\n",
    "print(\"The sum of elements in the list is:\", smallest_num)"
   ]
  },
  {
   "attachments": {},
   "cell_type": "markdown",
   "metadata": {},
   "source": [
    "##### 4. Write a Python program to find largest number in a list?"
   ]
  },
  {
   "cell_type": "code",
   "execution_count": 21,
   "metadata": {},
   "outputs": [
    {
     "name": "stdout",
     "output_type": "stream",
     "text": [
      "The sum of elements in the list is: 5\n"
     ]
    }
   ],
   "source": [
    "my_list = [1, 2, 3, 4, 5]\n",
    "largest_num = max(my_list)\n",
    "print(\"The sum of elements in the list is:\", largest_num)"
   ]
  },
  {
   "attachments": {},
   "cell_type": "markdown",
   "metadata": {},
   "source": [
    "##### 5. Write a Python program to find second largest number in a list?"
   ]
  },
  {
   "cell_type": "code",
   "execution_count": 24,
   "metadata": {},
   "outputs": [
    {
     "name": "stdout",
     "output_type": "stream",
     "text": [
      "45\n"
     ]
    }
   ],
   "source": [
    "lst = [10, 20, 4, 45, 99]\n",
    "m=max(lst)\n",
    "x=[a for i,a in enumerate(lst) if a<m]\n",
    "print(max(x))"
   ]
  },
  {
   "attachments": {},
   "cell_type": "markdown",
   "metadata": {},
   "source": [
    "##### 6. Write a Python program to find N largest elements from a list?"
   ]
  },
  {
   "cell_type": "code",
   "execution_count": 26,
   "metadata": {},
   "outputs": [
    {
     "data": {
      "text/plain": [
       "[78, 627, 900]"
      ]
     },
     "execution_count": 26,
     "metadata": {},
     "output_type": "execute_result"
    }
   ],
   "source": [
    "def n_large_linst(list_dt, n):\n",
    "    list_dt.sort()\n",
    "    return list_dt[-n:]\n",
    "\n",
    "list_dt = [23, 45, 78, 900, 627]\n",
    "n_large_linst(list_dt, 3)"
   ]
  },
  {
   "attachments": {},
   "cell_type": "markdown",
   "metadata": {},
   "source": [
    "##### 7. Write a Python program to print even numbers in a list?"
   ]
  },
  {
   "cell_type": "code",
   "execution_count": 31,
   "metadata": {},
   "outputs": [
    {
     "name": "stdout",
     "output_type": "stream",
     "text": [
      "78 900 456 2456 "
     ]
    }
   ],
   "source": [
    "def even_num(list_dt):\n",
    "    num = 0\n",
    "    while(num<len(list_dt)):\n",
    "        if list_dt[num] % 2 == 0:\n",
    "            print(list_dt[num], end=' ')\n",
    "        num+=1\n",
    "    return\n",
    "list_dt = [23, 45, 78, 900, 627, 456, 89, 2456]\n",
    "even_num(list_dt)"
   ]
  },
  {
   "attachments": {},
   "cell_type": "markdown",
   "metadata": {},
   "source": [
    "##### 8. Write a Python program to print odd numbers in a List?"
   ]
  },
  {
   "cell_type": "code",
   "execution_count": 36,
   "metadata": {},
   "outputs": [
    {
     "data": {
      "text/plain": [
       "[23, 45, 627, 89]"
      ]
     },
     "execution_count": 36,
     "metadata": {},
     "output_type": "execute_result"
    }
   ],
   "source": [
    "def odd_num(list_dt):\n",
    "    odd_num = [num for num in list_dt if num % 2 != 0]\n",
    "    return odd_num\n",
    "\n",
    "list_dt = [23, 45, 78, 900, 627, 456, 89, 2456]\n",
    "odd_num(list_dt)"
   ]
  },
  {
   "attachments": {},
   "cell_type": "markdown",
   "metadata": {},
   "source": [
    "##### 9. Write a Python program to Remove empty List from List?"
   ]
  },
  {
   "cell_type": "code",
   "execution_count": 38,
   "metadata": {},
   "outputs": [
    {
     "data": {
      "text/plain": [
       "[5, 6, 3, 9]"
      ]
     },
     "execution_count": 38,
     "metadata": {},
     "output_type": "execute_result"
    }
   ],
   "source": [
    "def full_list(test_list):\n",
    "    while [] in test_list:\n",
    "        test_list.remove([])\n",
    "    return test_list\n",
    "        \n",
    "test_list = [5, 6, [], 3, [], [], 9]\n",
    "full_list(test_list)"
   ]
  },
  {
   "attachments": {},
   "cell_type": "markdown",
   "metadata": {},
   "source": [
    "##### 10. Write a Python program to Cloning or Copying a list?"
   ]
  },
  {
   "cell_type": "code",
   "execution_count": 39,
   "metadata": {},
   "outputs": [
    {
     "name": "stdout",
     "output_type": "stream",
     "text": [
      "Original List: [4, 8, 2, 10, 15, 18]\n",
      "After Cloning: [4, 8, 2, 10, 15, 18]\n"
     ]
    }
   ],
   "source": [
    "def copy_list(list_dt):\n",
    "    copied_list = list_dt[:]\n",
    "    return copied_list\n",
    "\n",
    "list1 = [4, 8, 2, 10, 15, 18]\n",
    "list2 = copy_list(list1)\n",
    "print(\"Original List:\", list1)\n",
    "print(\"After Cloning:\", list2)"
   ]
  },
  {
   "attachments": {},
   "cell_type": "markdown",
   "metadata": {},
   "source": [
    "##### 11. Write a Python program to Count occurrences of an element in a list?"
   ]
  },
  {
   "cell_type": "code",
   "execution_count": 41,
   "metadata": {},
   "outputs": [
    {
     "name": "stdout",
     "output_type": "stream",
     "text": [
      "Element Count\n"
     ]
    },
    {
     "data": {
      "text/plain": [
       "2    3\n",
       "1    2\n",
       "3    2\n",
       "4    2\n",
       "5    2\n",
       "Name: count, dtype: int64"
      ]
     },
     "execution_count": 41,
     "metadata": {},
     "output_type": "execute_result"
    }
   ],
   "source": [
    "import pandas as pd\n",
    "\n",
    "def count_occurances(l):\n",
    "    count = pd.Series(l).value_counts()\n",
    "    return count\n",
    "    \n",
    "l = [1, 1, 2, 2, 2, 3, 3, 4, 4, 5, 5]\n",
    "print(\"Element Count\")\n",
    "count_occurances(l)"
   ]
  }
 ],
 "metadata": {
  "kernelspec": {
   "display_name": "_venv_",
   "language": "python",
   "name": "python3"
  },
  "language_info": {
   "codemirror_mode": {
    "name": "ipython",
    "version": 3
   },
   "file_extension": ".py",
   "mimetype": "text/x-python",
   "name": "python",
   "nbconvert_exporter": "python",
   "pygments_lexer": "ipython3",
   "version": "3.10.8"
  },
  "orig_nbformat": 4
 },
 "nbformat": 4,
 "nbformat_minor": 2
}
