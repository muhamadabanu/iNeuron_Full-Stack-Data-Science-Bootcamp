{
 "cells": [
  {
   "attachments": {},
   "cell_type": "markdown",
   "metadata": {},
   "source": [
    "### Programming Assignment_13"
   ]
  },
  {
   "attachments": {},
   "cell_type": "markdown",
   "metadata": {},
   "source": [
    "Question 1:\n",
    "\n",
    "Write a program that calculates and prints the value according to the given formula:\n",
    "\n",
    "Q = Square root of [(2 * C * D)/H]\n",
    "\n",
    "Following are the fixed values of C and H:\n",
    "\n",
    "C is 50. H is 30.\n",
    "\n",
    "D is the variable whose values should be input to your program in a comma-separated sequence.\n",
    "\n",
    "Example\n",
    "\n",
    "Let us assume the following comma separated input sequence is given to the program:\n",
    "\n",
    "100,150,180\n",
    "\n",
    "The output of the program should be:\n",
    "\n",
    "18,22,24"
   ]
  },
  {
   "cell_type": "code",
   "execution_count": 6,
   "metadata": {},
   "outputs": [
    {
     "name": "stdout",
     "output_type": "stream",
     "text": [
      "18,24,22,"
     ]
    }
   ],
   "source": [
    "import math\n",
    "input_D = input(\"Input the value of D (comma-separated):\")\n",
    "C = 50\n",
    "H = 30\n",
    "D_values = input_D.split(',')\n",
    "for D in D_values:\n",
    "    Q = round(math.sqrt((2 * C * int(D)) / H))\n",
    "    print(Q, end=',')"
   ]
  },
  {
   "attachments": {},
   "cell_type": "markdown",
   "metadata": {},
   "source": [
    "Question 2:\n",
    "Write a program which takes 2 digits, X,Y as input and generates a 2-dimensional array. The element value in the i-th row and j-th column of the array should be i*j.\n",
    "\n",
    "Note: i=0,1.., X-1; j=0,1,¡¬Y-1.\n",
    "\n",
    "Example\n",
    "\n",
    "Suppose the following inputs are given to the program:\n",
    "\n",
    "3,5\n",
    "\n",
    "Then, the output of the program should be:\n",
    "\n",
    "[[0, 0, 0, 0, 0], [0, 1, 2, 3, 4], [0, 2, 4, 6, 8]] "
   ]
  },
  {
   "cell_type": "code",
   "execution_count": 2,
   "metadata": {},
   "outputs": [
    {
     "name": "stdout",
     "output_type": "stream",
     "text": [
      "[[0, 0, 0, 0, 0], [0, 1, 2, 3, 4], [0, 2, 4, 6, 8]]\n"
     ]
    }
   ],
   "source": [
    "def generate_2d_array(X, Y):\n",
    "    # Create an empty 2D array filled with zeros\n",
    "    arr = [[0 for _ in range(Y)] for _ in range(X)]\n",
    "\n",
    "    # Fill the array with the appropriate values\n",
    "    for i in range(X):\n",
    "        for j in range(Y):\n",
    "            arr[i][j] = i * j\n",
    "\n",
    "    return arr\n",
    "\n",
    "# Input X and Y from the user\n",
    "X, Y = map(int, input(\"Enter two digits X, Y (separated by a comma): \").split(','))\n",
    "if X < 0 or Y < 0:\n",
    "    raise ValueError(\"X and Y should be non-negative integers.\")\n",
    "\n",
    "result_array = generate_2d_array(X, Y)\n",
    "print(result_array)"
   ]
  },
  {
   "cell_type": "markdown",
   "metadata": {},
   "source": [
    "Question 3:\n",
    "Write a program that accepts a comma separated sequence of words as input and prints the words in a comma-separated sequence after sorting them alphabetically.\n",
    "\n",
    "Suppose the following input is supplied to the program:\n",
    "\n",
    "without,hello,bag,world\n",
    "\n",
    "Then, the output should be:\n",
    "\n",
    "bag,hello,without,world"
   ]
  },
  {
   "cell_type": "code",
   "execution_count": 3,
   "metadata": {},
   "outputs": [
    {
     "name": "stdout",
     "output_type": "stream",
     "text": [
      "bad,hell,without,world\n"
     ]
    }
   ],
   "source": [
    "items = input(\"Input comma separated sequence of words\")\n",
    "words = [word for word in items.split(\",\")]\n",
    "print(\",\".join(sorted(list(set(words)))))"
   ]
  },
  {
   "cell_type": "markdown",
   "metadata": {},
   "source": [
    "Question 4:\n",
    "Write a program that accepts a sequence of whitespace separated words as input and prints the words after removing all duplicate words and sorting them alphanumerically.\n",
    "\n",
    "Suppose the following input is supplied to the program:\n",
    "\n",
    "hello world and practice makes perfect and hello world again\n",
    "\n",
    "Then, the output should be:\n",
    "\n",
    "again and hello makes perfect practice world"
   ]
  },
  {
   "cell_type": "code",
   "execution_count": 9,
   "metadata": {},
   "outputs": [
    {
     "name": "stdout",
     "output_type": "stream",
     "text": [
      "Input sequence of words is : hello world and practice makes perfect and hello world again\n",
      "Expected output is : makes world practice hello again perfect and\n"
     ]
    }
   ],
   "source": [
    "items = input(\"Input whitespace separated sequence of words\")\n",
    "print(\"Input sequence of words is :\", items)\n",
    "unique_words = \" \".join((set(items.split())))\n",
    "print(\"Expected output is :\",unique_words)"
   ]
  },
  {
   "cell_type": "markdown",
   "metadata": {},
   "source": [
    "Question 5:\n",
    "Write a program that accepts a sentence and calculate the number of letters and digits.\n",
    "\n",
    "Suppose the following input is supplied to the program:\n",
    "\n",
    "hello world! 123\n",
    "\n",
    "Then, the output should be:\n",
    "\n",
    "LETTERS 10\n",
    "\n",
    "DIGITS 3"
   ]
  },
  {
   "cell_type": "code",
   "execution_count": 11,
   "metadata": {},
   "outputs": [
    {
     "name": "stdout",
     "output_type": "stream",
     "text": [
      "LETTERS 10\n",
      "DIGITS 3\n"
     ]
    }
   ],
   "source": [
    "def count_letters_and_digits(sentence):\n",
    "  letters = 0\n",
    "  digits = 0\n",
    "  for char in sentence:\n",
    "    if char.isalpha():\n",
    "      letters += 1\n",
    "    elif char.isdigit():\n",
    "      digits += 1\n",
    "  return letters, digits\n",
    "\n",
    "\n",
    "if __name__ == \"__main__\":\n",
    "  sentence = input(\"Intput the Sentence :\")\n",
    "  letters, digits = count_letters_and_digits(sentence)\n",
    "  print(\"LETTERS\", letters)\n",
    "  print(\"DIGITS\", digits)"
   ]
  },
  {
   "cell_type": "markdown",
   "metadata": {},
   "source": [
    "Question 6:\n",
    "A website requires the users to input username and password to register. Write a program to check the validity of password input by users.\n",
    "\n",
    "Following are the criteria for checking the password:\n",
    "\n",
    "1. At least 1 letter between [a-z]\n",
    "\n",
    "2. At least 1 number between [0-9]\n",
    "\n",
    "1. At least 1 letter between [A-Z]\n",
    "\n",
    "3. At least 1 character from [$#@]\n",
    "\n",
    "4. Minimum length of transaction password: 6\n",
    "\n",
    "5. Maximum length of transaction password: 12\n",
    "\n",
    "Your program should accept a sequence of comma separated passwords and will check them according to the above criteria. Passwords that match the criteria are to be printed, each separated by a comma."
   ]
  },
  {
   "cell_type": "code",
   "execution_count": 3,
   "metadata": {},
   "outputs": [
    {
     "name": "stdout",
     "output_type": "stream",
     "text": [
      "Input passwords: ABd1234@1,a F1#,2w3E*,2We3345\n",
      "Valid passwords: ABd1234@1\n"
     ]
    }
   ],
   "source": [
    "import re\n",
    "\n",
    "def is_valid_password(password):\n",
    "  if len(password) < 6 or len(password) > 12:\n",
    "    return False\n",
    "  lower_letters = re.compile(\"[a-z]\")\n",
    "  upper_letters = re.compile(\"[A-Z]\")\n",
    "  digits = re.compile(\"[0-9]\")\n",
    "  special_characters = re.compile(\"[$#@]\")\n",
    "  if not lower_letters.search(password):\n",
    "    return False\n",
    "  if not upper_letters.search(password):\n",
    "    return False\n",
    "  if not digits.search(password):\n",
    "    return False\n",
    "  if not special_characters.search(password):\n",
    "    return False\n",
    "\n",
    "  # The password is valid.\n",
    "  return True\n",
    "\n",
    "\n",
    "if __name__ == \"__main__\":\n",
    "  input_password = input(\"Enter a comma-separated list of passwords: \")\n",
    "  print(\"Input passwords:\", input_password)\n",
    "  passwords = input_password.split(\",\")\n",
    "  valid_passwords = []\n",
    "  for password in passwords:\n",
    "    if is_valid_password(password):\n",
    "      valid_passwords.append(password)\n",
    "  print(\"Valid passwords:\", \",\".join(valid_passwords))"
   ]
  }
 ],
 "metadata": {
  "kernelspec": {
   "display_name": "_venv_",
   "language": "python",
   "name": "python3"
  },
  "language_info": {
   "codemirror_mode": {
    "name": "ipython",
    "version": 3
   },
   "file_extension": ".py",
   "mimetype": "text/x-python",
   "name": "python",
   "nbconvert_exporter": "python",
   "pygments_lexer": "ipython3",
   "version": "3.10.8"
  },
  "orig_nbformat": 4
 },
 "nbformat": 4,
 "nbformat_minor": 2
}
