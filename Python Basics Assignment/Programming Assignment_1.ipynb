{
 "cells": [
  {
   "cell_type": "markdown",
   "id": "0faa7bb7",
   "metadata": {},
   "source": [
    "### Programming Assignment_1"
   ]
  },
  {
   "cell_type": "markdown",
   "id": "b9bcf876",
   "metadata": {},
   "source": [
    "#### 1. Write a Python program to print \"Hello Python\"?"
   ]
  },
  {
   "cell_type": "code",
   "execution_count": 1,
   "id": "c450801a",
   "metadata": {},
   "outputs": [
    {
     "name": "stdout",
     "output_type": "stream",
     "text": [
      "Hello Python\n"
     ]
    }
   ],
   "source": [
    "print('Hello Python')"
   ]
  },
  {
   "cell_type": "markdown",
   "id": "31c5079a",
   "metadata": {},
   "source": [
    "#### 2.Write a Python program to do arithmetic operations addition and division ?"
   ]
  },
  {
   "cell_type": "code",
   "execution_count": 2,
   "id": "ec3509da",
   "metadata": {},
   "outputs": [
    {
     "name": "stdout",
     "output_type": "stream",
     "text": [
      "Please enter the First Number value: 5\n",
      "Please enter the Second Number value: 10\n",
      "The sum of 5 and 10 = 15\n",
      "The Subtraction of 5 and 10 = -5\n",
      "The Multiplication of 5 and 10 = 50\n",
      "The Division of 5 and 10 = 0\n"
     ]
    }
   ],
   "source": [
    "num_1 = int(input(\"Please enter the First Number value: \"))\n",
    "num_2 = int(input(\"Please enter the Second Number value: \"))\n",
    "# Addition \n",
    "Addition = num_1 + num_2\n",
    "# Subtraction\n",
    "Subtraction = num_1 - num_2\n",
    "# Multiplication\n",
    "Multiplication = num_1 * num_2\n",
    "# Division\n",
    "Division = num_1//num_2\n",
    "\n",
    "# Result\n",
    "print(\"The sum of {0} and {1} = {2}\".format(num_1, num_2, Addition))\n",
    "print(\"The Subtraction of {0} and {1} = {2}\".format(num_1, num_2, Subtraction))\n",
    "print(\"The Multiplication of {0} and {1} = {2}\".format(num_1, num_2, Multiplication))\n",
    "print(\"The Division of {0} and {1} = {2}\".format(num_1, num_2, Division))"
   ]
  },
  {
   "cell_type": "markdown",
   "id": "279544aa",
   "metadata": {},
   "source": [
    "#### 3. Write a Python program to find the area of a triangle?"
   ]
  },
  {
   "cell_type": "code",
   "execution_count": 4,
   "id": "6d5052aa",
   "metadata": {},
   "outputs": [
    {
     "name": "stdout",
     "output_type": "stream",
     "text": [
      "Enter height of triangle: 5\n",
      "Enter base of triangle: 6\n",
      "\n",
      "Area of triangle ==  15.0\n"
     ]
    }
   ],
   "source": [
    "height = int(input('Enter height of triangle: '))\n",
    "base = int(input('Enter base of triangle: '))\n",
    "\n",
    "def Area_of_Triangle(height, base):\n",
    "    print('\\nArea of triangle == ', 0.5*height*base)\n",
    "\n",
    "Area_of_Triangle(height,base)"
   ]
  },
  {
   "cell_type": "markdown",
   "id": "7636f15b",
   "metadata": {},
   "source": [
    "#### 4. Write a Python program to swap two variables?"
   ]
  },
  {
   "cell_type": "code",
   "execution_count": 5,
   "id": "cdc8501a",
   "metadata": {},
   "outputs": [
    {
     "name": "stdout",
     "output_type": "stream",
     "text": [
      "Please enter the First Number value: 7\n",
      "Please enter the Second Number value: 8\n",
      "Before swapping ==  7 8\n",
      "After swapping ==  8 7\n"
     ]
    }
   ],
   "source": [
    "num_1 = int(input(\"Please enter the First Number value: \"))\n",
    "num_2 = int(input(\"Please enter the Second Number value: \"))\n",
    "\n",
    "def swapNumbers(a,b):\n",
    "    temp = a\n",
    "    a = b\n",
    "    b = temp\n",
    "    return a,b\n",
    "\n",
    "print('Before swapping == ',num_1, num_2)\n",
    "num_1, num_2 = swapNumbers(num_1, num_2)\n",
    "print('After swapping == ',num_1,num_2)"
   ]
  },
  {
   "cell_type": "markdown",
   "id": "950c7879",
   "metadata": {},
   "source": [
    "#### 5. Write a Python program to generate a random number?"
   ]
  },
  {
   "cell_type": "code",
   "execution_count": null,
   "id": "1e3f7b72",
   "metadata": {},
   "outputs": [],
   "source": []
  }
 ],
 "metadata": {
  "kernelspec": {
   "display_name": "Python 3 (ipykernel)",
   "language": "python",
   "name": "python3"
  },
  "language_info": {
   "codemirror_mode": {
    "name": "ipython",
    "version": 3
   },
   "file_extension": ".py",
   "mimetype": "text/x-python",
   "name": "python",
   "nbconvert_exporter": "python",
   "pygments_lexer": "ipython3",
   "version": "3.9.12"
  }
 },
 "nbformat": 4,
 "nbformat_minor": 5
}
