{
 "cells": [
  {
   "attachments": {},
   "cell_type": "markdown",
   "metadata": {},
   "source": [
    "### Programming Assignment_7"
   ]
  },
  {
   "attachments": {},
   "cell_type": "markdown",
   "metadata": {},
   "source": [
    "##### 1. Write a Python Program to find sum of array?"
   ]
  },
  {
   "cell_type": "code",
   "execution_count": 3,
   "metadata": {},
   "outputs": [
    {
     "name": "stdout",
     "output_type": "stream",
     "text": [
      "The sum of the array [1, 2, 3, 4, 5] is 15\n"
     ]
    }
   ],
   "source": [
    "arr = [int(i) for i in input(\"Enter the array elements separated by space: \").split()]\n",
    "\n",
    "# Calculate the sum\n",
    "arr_sum = sum(arr)\n",
    "\n",
    "# Print the result\n",
    "print(\"The sum of the array\", arr, \"is\", arr_sum)"
   ]
  },
  {
   "attachments": {},
   "cell_type": "markdown",
   "metadata": {},
   "source": [
    "##### 2. Write a Python Program to find largest element in an array?"
   ]
  },
  {
   "cell_type": "code",
   "execution_count": 5,
   "metadata": {},
   "outputs": [
    {
     "name": "stdout",
     "output_type": "stream",
     "text": [
      "The largest element in the array [1, 2, 3, 4, 5] is 5\n"
     ]
    }
   ],
   "source": [
    "arr = [int(i) for i in input(\"Enter the array elements separated by space: \").split()]\n",
    "\n",
    "# Find the largest element\n",
    "max_elem = arr[0]\n",
    "for i in range(1, len(arr)):\n",
    "    if arr[i] > max_elem:\n",
    "        max_elem = arr[i]\n",
    "\n",
    "# Print the result\n",
    "print(\"The largest element in the array\", arr, \"is\", max_elem)"
   ]
  },
  {
   "attachments": {},
   "cell_type": "markdown",
   "metadata": {},
   "source": [
    "##### 3. Write a Python Program for array rotation?"
   ]
  },
  {
   "cell_type": "code",
   "execution_count": 6,
   "metadata": {},
   "outputs": [
    {
     "name": "stdout",
     "output_type": "stream",
     "text": [
      "Original array: [1, 2, 3, 4, 5, 6, 7]\n",
      "Left-rotated array: [4, 5, 6, 7, 1, 2, 3]\n"
     ]
    }
   ],
   "source": [
    "arr = [int(i) for i in input(\"Enter the array elements separated by space: \").split()]\n",
    "n = int(input(\"Enter the number of positions to rotate left: \"))\n",
    "\n",
    "# Perform left rotation\n",
    "rotated_arr = arr[n:] + arr[:n]\n",
    "\n",
    "# Print the result\n",
    "print(\"Original array:\", arr)\n",
    "print(\"Left-rotated array:\", rotated_arr)"
   ]
  },
  {
   "attachments": {},
   "cell_type": "markdown",
   "metadata": {},
   "source": [
    "##### 4. Write a Python Program to Split the array and add the first part to the end?"
   ]
  },
  {
   "cell_type": "code",
   "execution_count": 7,
   "metadata": {},
   "outputs": [
    {
     "name": "stdout",
     "output_type": "stream",
     "text": [
      "Original array: [1, 2, 3, 4, 5, 6, 7]\n",
      "Rotated array: [4, 5, 6, 7, 1, 2, 3]\n"
     ]
    }
   ],
   "source": [
    "arr = [int(i) for i in input(\"Enter the array elements separated by space: \").split()]\n",
    "\n",
    "# Split the array in half\n",
    "mid = len(arr) // 2\n",
    "first_half = arr[:mid]\n",
    "second_half = arr[mid:]\n",
    "\n",
    "# Add the first half to the end\n",
    "rotated_arr = second_half + first_half\n",
    "\n",
    "# Print the result\n",
    "print(\"Original array:\", arr)\n",
    "print(\"Rotated array:\", rotated_arr)"
   ]
  },
  {
   "attachments": {},
   "cell_type": "markdown",
   "metadata": {},
   "source": [
    "##### 5. Write a Python Program to check if given array is Monotonic?"
   ]
  },
  {
   "cell_type": "code",
   "execution_count": 8,
   "metadata": {},
   "outputs": [
    {
     "name": "stdout",
     "output_type": "stream",
     "text": [
      "The array is monotonic.\n"
     ]
    }
   ],
   "source": [
    "arr = [int(i) for i in input(\"Enter the array elements separated by space: \").split()]\n",
    "\n",
    "# Check if array is monotonic\n",
    "is_monotonic = all(arr[i] <= arr[i+1] for i in range(len(arr)-1)) or all(arr[i] >= arr[i+1] for i in range(len(arr)-1))\n",
    "\n",
    "# Print the result\n",
    "if is_monotonic:\n",
    "    print(\"The array is monotonic.\")\n",
    "else:\n",
    "    print(\"The array is not monotonic.\")"
   ]
  }
 ],
 "metadata": {
  "kernelspec": {
   "display_name": "local_env",
   "language": "python",
   "name": "python3"
  },
  "language_info": {
   "codemirror_mode": {
    "name": "ipython",
    "version": 3
   },
   "file_extension": ".py",
   "mimetype": "text/x-python",
   "name": "python",
   "nbconvert_exporter": "python",
   "pygments_lexer": "ipython3",
   "version": "3.10.8"
  },
  "orig_nbformat": 4
 },
 "nbformat": 4,
 "nbformat_minor": 2
}
