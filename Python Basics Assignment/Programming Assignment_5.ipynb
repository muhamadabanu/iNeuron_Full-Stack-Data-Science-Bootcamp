{
 "cells": [
  {
   "attachments": {},
   "cell_type": "markdown",
   "id": "b9c2d9f5",
   "metadata": {},
   "source": [
    "### Programming Assignment_5"
   ]
  },
  {
   "attachments": {},
   "cell_type": "markdown",
   "id": "ca8e43b0",
   "metadata": {},
   "source": [
    "#### 1. Write a Python Program to Find LCM?"
   ]
  },
  {
   "cell_type": "code",
   "execution_count": 6,
   "id": "2262bb24",
   "metadata": {},
   "outputs": [
    {
     "name": "stdout",
     "output_type": "stream",
     "text": [
      "The L.C.M. is 12\n"
     ]
    }
   ],
   "source": [
    "# Python Program to find the L.C.M. of two input number\n",
    "\n",
    "def lcm(x, y):\n",
    "\n",
    "   # choose the greater number\n",
    "   if x > y:\n",
    "       greater = x\n",
    "   else:\n",
    "       greater = y\n",
    "\n",
    "   while(True):\n",
    "       if((greater % x == 0) and (greater % y == 0)):\n",
    "           lcm = greater\n",
    "           break\n",
    "       greater += 1\n",
    "\n",
    "   return lcm\n",
    "\n",
    "num1 = int(input(\"Enter number 1:\"))\n",
    "num2 = int(input(\"Enter number 2:\"))\n",
    "\n",
    "print(\"The L.C.M. is\", lcm(num1, num2))"
   ]
  },
  {
   "attachments": {},
   "cell_type": "markdown",
   "id": "6d43d41a",
   "metadata": {},
   "source": [
    "#### 2. Write a Python Program to Find HCF?"
   ]
  },
  {
   "cell_type": "code",
   "execution_count": 7,
   "id": "febb6bf1",
   "metadata": {},
   "outputs": [
    {
     "name": "stdout",
     "output_type": "stream",
     "text": [
      "The HCF is 1\n"
     ]
    }
   ],
   "source": [
    "# Function to find HCF the Using Euclidian algorithm\n",
    "def hcf(x, y):\n",
    "   while(y):\n",
    "       x, y = y, x % y\n",
    "   return x\n",
    "\n",
    "num1 = int(input(\"Enter number 1:\"))\n",
    "num2 = int(input(\"Enter number 2:\"))\n",
    "print(\"The HCF is\", hcf(num1, num2))"
   ]
  },
  {
   "attachments": {},
   "cell_type": "markdown",
   "id": "104bb14d",
   "metadata": {},
   "source": [
    "#### 3. Write a Python Program to Convert Decimal to Binary, Octal and Hexadecimal?"
   ]
  },
  {
   "cell_type": "code",
   "execution_count": 8,
   "id": "be0be0a6",
   "metadata": {},
   "outputs": [
    {
     "name": "stdout",
     "output_type": "stream",
     "text": [
      "The decimal value of 123 is:\n",
      "0b1111011 in binary.\n",
      "0o173 in octal.\n",
      "0x7b in hexadecimal.\n"
     ]
    }
   ],
   "source": [
    "Number = int(input(\"Enter number:\"))\n",
    "\n",
    "print(\"The decimal value of\", Number, \"is:\")\n",
    "print(bin(Number), \"in binary.\")\n",
    "print(oct(Number), \"in octal.\")\n",
    "print(hex(Number), \"in hexadecimal.\")"
   ]
  },
  {
   "attachments": {},
   "cell_type": "markdown",
   "id": "ce34ea9c",
   "metadata": {},
   "source": [
    "#### 4. Write a Python Program To Find ASCII value of a character?|"
   ]
  },
  {
   "cell_type": "code",
   "execution_count": 12,
   "id": "e85d4de5",
   "metadata": {},
   "outputs": [
    {
     "name": "stdout",
     "output_type": "stream",
     "text": [
      "ASCII value of character is 66\n"
     ]
    }
   ],
   "source": [
    "character = str(input(\"Enter ASCII value: \"))\n",
    "print(\"ASCII value of character is\", ord(character))"
   ]
  },
  {
   "attachments": {},
   "cell_type": "markdown",
   "id": "5b5ed5c7",
   "metadata": {},
   "source": [
    "#### 5. Write a Python Program to Make a Simple Calculator with 4 basic mathematical operations?"
   ]
  },
  {
   "cell_type": "code",
   "execution_count": 5,
   "id": "41f81637",
   "metadata": {},
   "outputs": [
    {
     "name": "stdout",
     "output_type": "stream",
     "text": [
      "Select operation.\n",
      "1.Add\n",
      "2.Subtract\n",
      "3.Multiply\n",
      "4.Divide\n",
      "2  +  2  =  4\n"
     ]
    }
   ],
   "source": [
    "# This function adds two numbers\n",
    "def add(x, y):\n",
    "    return x + y\n",
    "\n",
    "# This function subtracts two numbers\n",
    "def subtract(x, y):\n",
    "    return x - y\n",
    "\n",
    "# This function multiplies two numbers\n",
    "def multiply(x, y):\n",
    "    return x * y\n",
    "\n",
    "# This function divides two numbers\n",
    "def divide(x, y):\n",
    "    return x / y\n",
    "\n",
    "\n",
    "print(\"Select operation.\")\n",
    "print(\"1.Add\")\n",
    "print(\"2.Subtract\")\n",
    "print(\"3.Multiply\")\n",
    "print(\"4.Divide\")\n",
    "\n",
    "choice = input(\"Please enter choice (1/ 2/ 3/ 4): \")    \n",
    "\n",
    "num_1 = int(input (\"Please enter the first number: \"))    \n",
    "num_2 = int(input (\"Please enter the second number: \"))    \n",
    "    \n",
    "if choice == '1':    \n",
    "   print (num_1, \" + \", num_2, \" = \", add(num_1, num_2))    \n",
    "    \n",
    "elif choice == '2':    \n",
    "   print (num_1, \" - \", num_2, \" = \", subtract(num_1, num_2))    \n",
    "    \n",
    "elif choice == '3':    \n",
    "   print (num1, \" * \", num2, \" = \", multiply(num1, num2))    \n",
    "elif choice == '4':    \n",
    "   print (num_1, \" / \", num_2, \" = \", divide(num_1, num_2))    \n",
    "else:    \n",
    "   print (\"This is an invalid input\")    "
   ]
  }
 ],
 "metadata": {
  "kernelspec": {
   "display_name": "Python 3",
   "language": "python",
   "name": "python3"
  },
  "language_info": {
   "codemirror_mode": {
    "name": "ipython",
    "version": 3
   },
   "file_extension": ".py",
   "mimetype": "text/x-python",
   "name": "python",
   "nbconvert_exporter": "python",
   "pygments_lexer": "ipython3",
   "version": "3.10.8"
  },
  "vscode": {
   "interpreter": {
    "hash": "5dfe11ba54dfb31aec993b92878af67d456ad023a6ff1d8e965661ad9159f70a"
   }
  }
 },
 "nbformat": 4,
 "nbformat_minor": 5
}
