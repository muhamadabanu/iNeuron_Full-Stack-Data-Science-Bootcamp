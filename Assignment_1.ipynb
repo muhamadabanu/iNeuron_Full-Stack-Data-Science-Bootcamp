{
 "cells": [
  {
   "cell_type": "raw",
   "id": "98468c4f",
   "metadata": {},
   "source": [
    "1. What is the purpose of Python's OOP?\n",
    "        Object-Oriented Programming(OOP), is all about creating “objects”. An object is a group of interrelated variables and functions. These variables are often referred to as properties of the object and functions are referred to as the behavior of the objects. It aims to implement real-world entities like inheritance, polymorphisms, encapsulation, etc. in the programming. The main concept of OOPs is to bind the data and the functions that work on that together as a single unit so that no other part of the code can access this data.\n",
    "\n",
    "Main Concepts of Object-Oriented Programming (OOPs) \n",
    "--> Class\n",
    "--> Objects\n",
    "--> Polymorphism\n",
    "--> Encapsulation\n",
    "--> Inheritance\n",
    "--> Data Abstraction"
   ]
  },
  {
   "cell_type": "raw",
   "id": "b27a7b0b",
   "metadata": {},
   "source": [
    "2. Where does an inheritance search look for an attribute?"
   ]
  },
  {
   "cell_type": "raw",
   "id": "96981044",
   "metadata": {},
   "source": [
    "3. How do you distinguish between a class object and an instance object?\n",
    "   1. CLASS OBJECT\n",
    "           when we create a class in python then a class object is created so whenever python finds a class statement in the whole program then it creates a class object and assigns a name to that object i.e. class name. As we know in python, everything is an object so the class itself is an object and is the instance of metaclasses. \n",
    "Look at the following example\n",
    "--> class MyClass:\n",
    "--> pass\n",
    "Above code will generate a class object and name it ‘MyClass’. From this class object, we will create instance objects. \n",
    "'Class object inherits the attributes of its parent classes'.\n",
    "   2. INSTANCE OBJECT\n",
    "          when we call a class, it creates an instance object of that class from which the object has been created. \n",
    "For example when we call the above-created class then it will create an instance object like this.\n",
    "--> Obj1=MyClass()\n",
    "The above statement creates an object and names it to Obj1 which is an instance of MyClass. The instance object has access to attributes of the class from which it is created. For example, Obj1 is the instance of class MyClass so, Now Obj1 can access everything defined in the class, and in the class object, we define the default behavior and properties of objects.\n",
    "'Instance object inherits the attributes of the class object from which it was created'."
   ]
  },
  {
   "cell_type": "code",
   "execution_count": 3,
   "id": "09663aca",
   "metadata": {},
   "outputs": [],
   "source": [
    "#  1. CLASS OBJECT\n",
    "class MyClass:\n",
    "    pass"
   ]
  },
  {
   "cell_type": "code",
   "execution_count": 4,
   "id": "ac0780b7",
   "metadata": {},
   "outputs": [],
   "source": [
    "#  2. INSTANCE OBJECT\n",
    "Obj1=MyClass()"
   ]
  },
  {
   "cell_type": "raw",
   "id": "68e1068e",
   "metadata": {},
   "source": [
    "4. What makes the first argument in a class’s method function special?\n",
    "         The first argument of every class method, including init, is always a reference to the current instance of the class. By convention, this argument is always named self. In the init method, self refers to the newly created object; in other class methods, it refers to the instance whose method was called."
   ]
  },
  {
   "cell_type": "raw",
   "id": "2ce339e5",
   "metadata": {},
   "source": [
    "5. What is the purpose of the __init__ method?\n",
    "          The __init__ function is called every time an object is created from a class. The __init__ method lets the class initialize the objects attributes and serves no other purpose"
   ]
  },
  {
   "cell_type": "raw",
   "id": "a7f158c7",
   "metadata": {},
   "source": [
    "6.  What is the process for creating a class instance?\n",
    "          To create instances of a class, you call the class using class name and pass in whatever arguments its __init__ method accepts.\n",
    "Example:\n",
    "\"This would create first object of Employee class\"\n",
    "emp1 = Employee(\"Zara\", 2000)\n",
    "\"This would create second object of Employee class\"\n",
    "emp2 = Employee(\"Manni\", 5000)\n",
    "\n",
    "You access the object's attributes using the dot operator with object. Class variable would be accessed using class name as follows −\n",
    "emp1.displayEmployee()\n",
    "emp2.displayEmployee()\n",
    "print \"Total Employee %d\" % Employee.empCount"
   ]
  },
  {
   "cell_type": "raw",
   "id": "5a43a2d1",
   "metadata": {},
   "source": [
    "7. What is the process for creating a class?\n",
    "       In a python a class can be created by using the keyword class, followed by the class name.\n",
    "Example:\n",
    "Create a class named MyClass, with a property named X:\n",
    "class My Class:\n",
    "X = 5\n",
    "print(MyClass)"
   ]
  },
  {
   "cell_type": "raw",
   "id": "c0bc0cea",
   "metadata": {},
   "source": [
    "8. How would you define the superclasses of a class?\n",
    "   The class whose properties gets inherited by another class is known as superclass or parent class"
   ]
  }
 ],
 "metadata": {
  "kernelspec": {
   "display_name": "Python 3 (ipykernel)",
   "language": "python",
   "name": "python3"
  },
  "language_info": {
   "codemirror_mode": {
    "name": "ipython",
    "version": 3
   },
   "file_extension": ".py",
   "mimetype": "text/x-python",
   "name": "python",
   "nbconvert_exporter": "python",
   "pygments_lexer": "ipython3",
   "version": "3.9.7"
  }
 },
 "nbformat": 4,
 "nbformat_minor": 5
}
