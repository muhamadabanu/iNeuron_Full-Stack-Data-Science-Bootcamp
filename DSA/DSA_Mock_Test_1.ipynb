{
 "cells": [
  {
   "attachments": {},
   "cell_type": "markdown",
   "metadata": {},
   "source": [
    "#### Question 1\n",
    "\n",
    "Move Zeroes\n",
    "Given an integer array nums, move all 0's to the end of it while maintaining the relative order of the non-zero elements.\n",
    "\n",
    "Note that you must do this in-place without making a copy of the array.\n",
    "\n",
    "Example 1:\n",
    "Input: nums = [0,1,0,3,12]\n",
    "Output: [1,3,12,0,0]\n",
    "\n",
    "Example 2:\n",
    "Input: nums = [0]\n",
    "Output: [0]\n",
    "\n",
    "Constraints:\n",
    "a. 1 <= nums.length <= 10^4\n",
    "b. -2^31 <= nums[i] <= 2^31 - 1"
   ]
  },
  {
   "cell_type": "code",
   "execution_count": 1,
   "metadata": {},
   "outputs": [
    {
     "name": "stdout",
     "output_type": "stream",
     "text": [
      "[1, 3, 12, 0, 0]\n"
     ]
    }
   ],
   "source": [
    "def move_zeros(nums):\n",
    "  # Initialize pointers to the first non-zero element and the end of the array.\n",
    "  non_zero_ptr = 0\n",
    "  end_ptr = len(nums) - 1\n",
    "\n",
    "  # Iterate over the array.\n",
    "  for i in range(len(nums)):\n",
    "    # If the current element is not 0, swap it with the element at the non-zero pointer.\n",
    "    if nums[i] != 0:\n",
    "      nums[non_zero_ptr], nums[i] = nums[i], nums[non_zero_ptr]\n",
    "      non_zero_ptr += 1\n",
    "\n",
    "  # Fill the remaining elements of the array with 0's.\n",
    "  for i in range(non_zero_ptr, end_ptr + 1):\n",
    "    nums[i] = 0\n",
    "\n",
    "  return nums\n",
    "\n",
    "nums = [0, 1, 0, 3, 12]\n",
    "\n",
    "new_nums = move_zeros(nums)\n",
    "\n",
    "print(new_nums)"
   ]
  },
  {
   "attachments": {},
   "cell_type": "markdown",
   "metadata": {},
   "source": [
    "#### Question 2\n",
    "First Unique Character in a String\n",
    "\n",
    "Given a string s, find the first non-repeating character in it and return its index. If it does not exist, return -1.\n",
    "\n",
    "Example 1:\n",
    "Input: s = \"leetcode\"\n",
    "Output: 0\n",
    "\n",
    "Example 2:\n",
    "Input: s = \"loveleetcode\"\n",
    "Output: 2\n",
    "\n",
    "Example 3:\n",
    "Input: s = \"aabb\"\n",
    "Output: -1\n",
    "\n",
    "Constraints:\n",
    "a. 1 <= s.length <= 10^5\n",
    "b. s consists of only lowercase English letters."
   ]
  },
  {
   "cell_type": "code",
   "execution_count": 2,
   "metadata": {},
   "outputs": [
    {
     "name": "stdout",
     "output_type": "stream",
     "text": [
      "0\n"
     ]
    }
   ],
   "source": [
    "def first_unique_char(s):\n",
    "  # Create a dictionary to store the number of occurrences of each character in the string.\n",
    "  char_counts = {}\n",
    "  for c in s:\n",
    "    if c not in char_counts:\n",
    "      char_counts[c] = 1\n",
    "    else:\n",
    "      char_counts[c] += 1\n",
    "\n",
    "  # Iterate over the string, looking for the first character with a count of 1.\n",
    "  for i, c in enumerate(s):\n",
    "    if char_counts[c] == 1:\n",
    "      return i\n",
    "\n",
    "  # If no such character exists, return -1.\n",
    "  return -1\n",
    "\n",
    "s = \"leetcode\"\n",
    "index = first_unique_char(s)\n",
    "print(index)"
   ]
  }
 ],
 "metadata": {
  "kernelspec": {
   "display_name": "_venv_",
   "language": "python",
   "name": "python3"
  },
  "language_info": {
   "codemirror_mode": {
    "name": "ipython",
    "version": 3
   },
   "file_extension": ".py",
   "mimetype": "text/x-python",
   "name": "python",
   "nbconvert_exporter": "python",
   "pygments_lexer": "ipython3",
   "version": "3.10.8"
  },
  "orig_nbformat": 4
 },
 "nbformat": 4,
 "nbformat_minor": 2
}
